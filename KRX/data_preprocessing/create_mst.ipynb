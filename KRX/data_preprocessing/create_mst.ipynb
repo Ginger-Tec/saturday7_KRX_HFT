{
 "cells": [
  {
   "cell_type": "code",
   "execution_count": 1,
   "id": "initial_id",
   "metadata": {
    "collapsed": true,
    "ExecuteTime": {
     "end_time": "2023-09-21T06:10:06.965047Z",
     "start_time": "2023-09-21T06:10:06.619680Z"
    }
   },
   "outputs": [],
   "source": [
    "import glob\n",
    "import os\n",
    "\n",
    "import pandas as pd\n",
    "from tqdm import tqdm\n",
    "\n",
    "work_path = os.path.abspath(os.getcwd())\n",
    "project_name = \"saturday7_KRX_HFT\"\n",
    "project_path = work_path[:work_path.find(project_name) + len(project_name)]\n",
    "os.chdir(project_path)"
   ]
  },
  {
   "cell_type": "code",
   "execution_count": 2,
   "outputs": [
    {
     "name": "stderr",
     "output_type": "stream",
     "text": [
      "100%|██████████| 3/3 [00:01<00:00,  2.25it/s]\n"
     ]
    }
   ],
   "source": [
    "# 파일시스템: date > code\n",
    "# pandas key: (nsYMD, nsISIN)\n",
    "date_files: list = glob.glob(\"./data/krx_raw/*\")\n",
    "pandas_keys = []\n",
    "\n",
    "df_info = pd.DataFrame()\n",
    "for date_file in tqdm(date_files):\n",
    "    date = date_file.split(\"/\")[-1]\n",
    "    isin_files: list = glob.glob(date_file + \"/*\")\n",
    "\n",
    "    isin_info = {}\n",
    "    for isin_file in isin_files:\n",
    "        isin = isin_file.split(\"/\")[-1].split(\"_\")[0]\n",
    "        d_level = isin_file.split(\"/\")[-1].split(\"_\")[1].split(\"@\")[0]\n",
    "\n",
    "        isin_info[isin] = isin_info.get(isin, {})\n",
    "        isin_info[isin].setdefault('A3', False)\n",
    "        isin_info[isin].setdefault('B6', False)\n",
    "        isin_info[isin].setdefault('A3_len', 0)\n",
    "        isin_info[isin].setdefault('A3_len', 0)\n",
    "\n",
    "        data_length = pd.read_parquet(isin_file).shape[0]\n",
    "        if d_level == \"A3\":\n",
    "            isin_info[isin]['A3_len'] = data_length\n",
    "        elif d_level == \"B6\":\n",
    "            isin_info[isin]['B6_len'] = data_length\n",
    "\n",
    "        isin_info[isin]['A3'] = True if d_level == \"A3\" else isin_info[isin]['A3']\n",
    "        isin_info[isin]['B6'] = True if d_level == \"B6\" else isin_info[isin]['B6']\n",
    "\n",
    "    df_isin_info = pd.DataFrame(isin_info).T\n",
    "    df_isin_info.index.name = 'nsISIN'\n",
    "    df_isin_info['nsYMD'] = date\n",
    "    df_info = pd.concat([df_info, df_isin_info])\n",
    "\n",
    "df_info = df_info.reset_index()\n",
    "df_info[\"nsStockCode\"] = df_info[\"nsISIN\"].apply(lambda x: 'A' + x[3:-3])\n",
    "df_info = df_info.set_index(['nsYMD', 'nsStockCode'])"
   ],
   "metadata": {
    "collapsed": false,
    "ExecuteTime": {
     "end_time": "2023-09-21T06:10:08.945379Z",
     "start_time": "2023-09-21T06:10:07.590997Z"
    }
   },
   "id": "fcad78ee412be352"
  },
  {
   "cell_type": "code",
   "execution_count": 12,
   "outputs": [
    {
     "name": "stdout",
     "output_type": "stream",
     "text": [
      "(15, 7)\n"
     ]
    }
   ],
   "source": [
    "# df_krx_ohlcv_part = pd.read_parquet(\"./data/krx_mst/krx_ohlcv_part.parquet\")\n",
    "# df_krx_mst = pd.merge(df_info, df_krx_ohlcv_part, how=\"left\", on=[\"nsYMD\", \"nsStockCode\"])\n",
    "# df_krx_vwap_part = pd.read_parquet(\"./data/krx_mst/krx_vwap_part.parquet\")\n",
    "# df_krx_mst = pd.merge(df_krx_mst, df_krx_vwap_part, how=\"left\", on=[\"nsYMD\", \"nsStockCode\"])\n",
    "df_krx_mst = df_info.copy()\n",
    "df_krx_mst = df_krx_mst.sort_values(by=['nsYMD', 'nsStockCode'],ascending=[True, True])\n",
    "df_krx_mst = df_krx_mst.reset_index(drop=False)\n",
    "df_krx_mst = df_krx_mst.query(\"A3_len != 0 or B6_len != 0\")\n",
    "df_krx_mst.to_parquet(\"./data/krx_mst/krx_mst.parquet\", compression='zstd')\n",
    "print(df_krx_mst.shape)"
   ],
   "metadata": {
    "collapsed": false,
    "ExecuteTime": {
     "end_time": "2023-09-21T08:47:42.011008Z",
     "start_time": "2023-09-21T08:47:42.001109Z"
    }
   },
   "id": "149942b970924ddf"
  },
  {
   "cell_type": "code",
   "execution_count": 13,
   "outputs": [
    {
     "data": {
      "text/plain": "       nsYMD nsStockCode        nsISIN    A3    B6  A3_len  B6_len\n0   20221004     A000270  KR7000270009  True  True   18736   46515\n1   20221004     A000660  KR7000660001  True  True   46264   74380\n2   20221004     A032190  KR7032190001  True  True    1394    4714\n3   20221004     A035420  KR7035420009  True  True  121848  183015\n4   20221004     A373220  KR7373220003  True  True   25422   54240\n5   20221005     A000270  KR7000270009  True  True   49992   83665\n6   20221005     A000660  KR7000660001  True  True   66785  102622\n7   20221005     A032190  KR7032190001  True  True     763    3621\n8   20221005     A035420  KR7035420009  True  True  112563  137010\n9   20221005     A373220  KR7373220003  True  True   37070   68833\n10  20221006     A000270  KR7000270009  True  True   24458   60923\n11  20221006     A000660  KR7000660001  True  True   39955   74444\n12  20221006     A032190  KR7032190001  True  True    1067    3933\n13  20221006     A035420  KR7035420009  True  True   48844  117127\n14  20221006     A373220  KR7373220003  True  True   24127   57248",
      "text/html": "<div>\n<style scoped>\n    .dataframe tbody tr th:only-of-type {\n        vertical-align: middle;\n    }\n\n    .dataframe tbody tr th {\n        vertical-align: top;\n    }\n\n    .dataframe thead th {\n        text-align: right;\n    }\n</style>\n<table border=\"1\" class=\"dataframe\">\n  <thead>\n    <tr style=\"text-align: right;\">\n      <th></th>\n      <th>nsYMD</th>\n      <th>nsStockCode</th>\n      <th>nsISIN</th>\n      <th>A3</th>\n      <th>B6</th>\n      <th>A3_len</th>\n      <th>B6_len</th>\n    </tr>\n  </thead>\n  <tbody>\n    <tr>\n      <th>0</th>\n      <td>20221004</td>\n      <td>A000270</td>\n      <td>KR7000270009</td>\n      <td>True</td>\n      <td>True</td>\n      <td>18736</td>\n      <td>46515</td>\n    </tr>\n    <tr>\n      <th>1</th>\n      <td>20221004</td>\n      <td>A000660</td>\n      <td>KR7000660001</td>\n      <td>True</td>\n      <td>True</td>\n      <td>46264</td>\n      <td>74380</td>\n    </tr>\n    <tr>\n      <th>2</th>\n      <td>20221004</td>\n      <td>A032190</td>\n      <td>KR7032190001</td>\n      <td>True</td>\n      <td>True</td>\n      <td>1394</td>\n      <td>4714</td>\n    </tr>\n    <tr>\n      <th>3</th>\n      <td>20221004</td>\n      <td>A035420</td>\n      <td>KR7035420009</td>\n      <td>True</td>\n      <td>True</td>\n      <td>121848</td>\n      <td>183015</td>\n    </tr>\n    <tr>\n      <th>4</th>\n      <td>20221004</td>\n      <td>A373220</td>\n      <td>KR7373220003</td>\n      <td>True</td>\n      <td>True</td>\n      <td>25422</td>\n      <td>54240</td>\n    </tr>\n    <tr>\n      <th>5</th>\n      <td>20221005</td>\n      <td>A000270</td>\n      <td>KR7000270009</td>\n      <td>True</td>\n      <td>True</td>\n      <td>49992</td>\n      <td>83665</td>\n    </tr>\n    <tr>\n      <th>6</th>\n      <td>20221005</td>\n      <td>A000660</td>\n      <td>KR7000660001</td>\n      <td>True</td>\n      <td>True</td>\n      <td>66785</td>\n      <td>102622</td>\n    </tr>\n    <tr>\n      <th>7</th>\n      <td>20221005</td>\n      <td>A032190</td>\n      <td>KR7032190001</td>\n      <td>True</td>\n      <td>True</td>\n      <td>763</td>\n      <td>3621</td>\n    </tr>\n    <tr>\n      <th>8</th>\n      <td>20221005</td>\n      <td>A035420</td>\n      <td>KR7035420009</td>\n      <td>True</td>\n      <td>True</td>\n      <td>112563</td>\n      <td>137010</td>\n    </tr>\n    <tr>\n      <th>9</th>\n      <td>20221005</td>\n      <td>A373220</td>\n      <td>KR7373220003</td>\n      <td>True</td>\n      <td>True</td>\n      <td>37070</td>\n      <td>68833</td>\n    </tr>\n    <tr>\n      <th>10</th>\n      <td>20221006</td>\n      <td>A000270</td>\n      <td>KR7000270009</td>\n      <td>True</td>\n      <td>True</td>\n      <td>24458</td>\n      <td>60923</td>\n    </tr>\n    <tr>\n      <th>11</th>\n      <td>20221006</td>\n      <td>A000660</td>\n      <td>KR7000660001</td>\n      <td>True</td>\n      <td>True</td>\n      <td>39955</td>\n      <td>74444</td>\n    </tr>\n    <tr>\n      <th>12</th>\n      <td>20221006</td>\n      <td>A032190</td>\n      <td>KR7032190001</td>\n      <td>True</td>\n      <td>True</td>\n      <td>1067</td>\n      <td>3933</td>\n    </tr>\n    <tr>\n      <th>13</th>\n      <td>20221006</td>\n      <td>A035420</td>\n      <td>KR7035420009</td>\n      <td>True</td>\n      <td>True</td>\n      <td>48844</td>\n      <td>117127</td>\n    </tr>\n    <tr>\n      <th>14</th>\n      <td>20221006</td>\n      <td>A373220</td>\n      <td>KR7373220003</td>\n      <td>True</td>\n      <td>True</td>\n      <td>24127</td>\n      <td>57248</td>\n    </tr>\n  </tbody>\n</table>\n</div>"
     },
     "execution_count": 13,
     "metadata": {},
     "output_type": "execute_result"
    }
   ],
   "source": [
    "df_krx_mst"
   ],
   "metadata": {
    "collapsed": false,
    "ExecuteTime": {
     "end_time": "2023-09-21T08:47:42.478432Z",
     "start_time": "2023-09-21T08:47:42.472412Z"
    }
   },
   "id": "88d5c79decc3d83d"
  },
  {
   "cell_type": "code",
   "execution_count": null,
   "outputs": [],
   "source": [],
   "metadata": {
    "collapsed": false
   },
   "id": "ecd0588c02600230"
  }
 ],
 "metadata": {
  "kernelspec": {
   "display_name": "Python 3",
   "language": "python",
   "name": "python3"
  },
  "language_info": {
   "codemirror_mode": {
    "name": "ipython",
    "version": 2
   },
   "file_extension": ".py",
   "mimetype": "text/x-python",
   "name": "python",
   "nbconvert_exporter": "python",
   "pygments_lexer": "ipython2",
   "version": "2.7.6"
  }
 },
 "nbformat": 4,
 "nbformat_minor": 5
}
